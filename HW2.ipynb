{
  "nbformat": 4,
  "nbformat_minor": 0,
  "metadata": {
    "colab": {
      "name": "HW2.ipynb",
      "provenance": []
    },
    "kernelspec": {
      "name": "python3",
      "display_name": "Python 3"
    },
    "language_info": {
      "name": "python"
    }
  },
  "cells": [
    {
      "cell_type": "markdown",
      "metadata": {
        "id": "YYL-xYuJcd5z"
      },
      "source": [
        "## 1 Function definitions"
      ]
    },
    {
      "cell_type": "code",
      "metadata": {
        "id": "q2p8P0rNch8D"
      },
      "source": [
        "def Probability(N, x, s):\n",
        "  AT = 0\n",
        "  GC = 0\n",
        "  for nt in s:\n",
        "    if nt == 'A' or nt == 'T':\n",
        "      AT += 1\n",
        "    elif nt == 'G' or nt == 'C':\n",
        "      GC += 1\n",
        "  prob = (((1 - x) / 2)**AT) * (((x) / 2)**GC)\n",
        "  res = 1 - (1 - s_prob)**N\n",
        "  return('%0.3f' % res)"
      ],
      "execution_count": 7,
      "outputs": []
    },
    {
      "cell_type": "markdown",
      "metadata": {
        "id": "QNEbj4XcdsDS"
      },
      "source": [
        "# 2 Do staff"
      ]
    },
    {
      "cell_type": "code",
      "metadata": {
        "colab": {
          "base_uri": "https://localhost:8080/",
          "height": 35
        },
        "id": "ZltxafurdwD_",
        "outputId": "02a05012-746a-4f25-a9a4-88d0ea64dd0c"
      },
      "source": [
        "N = int(input('Number of DNA strigs:'))\n",
        "x = float(input('GC content'))\n",
        "s = str(input('String:'))\n",
        "Probability(N, x, s)"
      ],
      "execution_count": 8,
      "outputs": [
        {
          "output_type": "execute_result",
          "data": {
            "application/vnd.google.colaboratory.intrinsic+json": {
              "type": "string"
            },
            "text/plain": [
              "'0.689'"
            ]
          },
          "metadata": {
            "tags": []
          },
          "execution_count": 8
        }
      ]
    }
  ]
}