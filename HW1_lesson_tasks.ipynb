{
  "nbformat": 4,
  "nbformat_minor": 0,
  "metadata": {
    "colab": {
      "name": "HW1_lesson tasks.ipynb",
      "provenance": [],
      "mount_file_id": "137fcmaAFhDPeWModjYbQLEzer3t3r3LI",
      "authorship_tag": "ABX9TyMIiaXBemqoVLv7pTTHQh7y",
      "include_colab_link": true
    },
    "kernelspec": {
      "name": "python3",
      "display_name": "Python 3"
    },
    "language_info": {
      "name": "python"
    }
  },
  "cells": [
    {
      "cell_type": "markdown",
      "metadata": {
        "id": "view-in-github",
        "colab_type": "text"
      },
      "source": [
        "<a href=\"https://colab.research.google.com/github/vdyakushina/Scientific-Python/blob/main/HW1_lesson_tasks.ipynb\" target=\"_parent\"><img src=\"https://colab.research.google.com/assets/colab-badge.svg\" alt=\"Open In Colab\"/></a>"
      ]
    },
    {
      "cell_type": "markdown",
      "metadata": {
        "id": "UdCXuLXX3-iZ"
      },
      "source": [
        "## 1. Replace all duplicated letters to one"
      ]
    },
    {
      "cell_type": "code",
      "metadata": {
        "colab": {
          "base_uri": "https://localhost:8080/",
          "height": 35
        },
        "id": "rs-gFklSJbXB",
        "outputId": "5eac9aab-9083-4a0d-cadb-9098a6fca25b"
      },
      "source": [
        "seq='aacdhkk'\n",
        "import re\n",
        "r=re.sub(r\"([a-zA-Z0-9])\\1{1}\", r'\\1',seq)\n",
        "r"
      ],
      "execution_count": 22,
      "outputs": [
        {
          "output_type": "execute_result",
          "data": {
            "application/vnd.google.colaboratory.intrinsic+json": {
              "type": "string"
            },
            "text/plain": [
              "'acdhk'"
            ]
          },
          "metadata": {
            "tags": []
          },
          "execution_count": 22
        }
      ]
    },
    {
      "cell_type": "markdown",
      "metadata": {
        "id": "9t9jbPwC7VTS"
      },
      "source": [
        "## 2."
      ]
    },
    {
      "cell_type": "code",
      "metadata": {
        "colab": {
          "base_uri": "https://localhost:8080/",
          "height": 35
        },
        "id": "Yl4UnAvn4EYJ",
        "outputId": "6e44716e-e54c-4d56-85a8-e8cac88e0444"
      },
      "source": [
        "seq='Mus muscul'\n",
        "r=re.search(r\"\\B\\w*\\b\", seq).group()\n",
        "seq=seq.replace(r, '. ', 1)\n",
        "seq"
      ],
      "execution_count": 49,
      "outputs": [
        {
          "output_type": "execute_result",
          "data": {
            "application/vnd.google.colaboratory.intrinsic+json": {
              "type": "string"
            },
            "text/plain": [
              "'M.  muscul'"
            ]
          },
          "metadata": {
            "tags": []
          },
          "execution_count": 49
        }
      ]
    },
    {
      "cell_type": "markdown",
      "metadata": {
        "id": "0mWMiM0W-JJz"
      },
      "source": [
        "## 3. "
      ]
    },
    {
      "cell_type": "code",
      "metadata": {
        "colab": {
          "base_uri": "https://localhost:8080/",
          "height": 35
        },
        "id": "x83wlSpJ7Ymf",
        "outputId": "7921bf30-6a34-4b33-b9c5-b4c8b80f599d"
      },
      "source": [
        "seq='Frilafanta muscul (Y456)'\n",
        "r=re.search(r\"\\B\\w*\\b\", seq).group()\n",
        "seq=seq.replace(r, '.', 1)\n",
        "r1=re.search(r\"\\B\\(\\b\", seq).group()\n",
        "r2=re.search(r\"\\b\\)\\B\", seq).group()\n",
        "r3=re.search(r\". \", seq).group()\n",
        "seq=seq.replace(r1, '', 1).replace(r2, '', 1).replace(r3, '.', 1)\n",
        "seq"
      ],
      "execution_count": 73,
      "outputs": [
        {
          "output_type": "execute_result",
          "data": {
            "application/vnd.google.colaboratory.intrinsic+json": {
              "type": "string"
            },
            "text/plain": [
              "'F.muscul Y456'"
            ]
          },
          "metadata": {
            "tags": []
          },
          "execution_count": 73
        }
      ]
    }
  ]
}