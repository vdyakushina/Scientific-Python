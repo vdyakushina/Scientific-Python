{
  "nbformat": 4,
  "nbformat_minor": 0,
  "metadata": {
    "colab": {
      "name": "Intermediate test.ipynb",
      "provenance": [],
      "toc_visible": true,
      "mount_file_id": "1sUL1la8x_SD_2ZjSv8ukJ2pV8ZXuF-A8",
      "authorship_tag": "ABX9TyPLf/rwtRC93w3cG/b+vOAt",
      "include_colab_link": true
    },
    "kernelspec": {
      "name": "python3",
      "display_name": "Python 3"
    },
    "language_info": {
      "name": "python"
    }
  },
  "cells": [
    {
      "cell_type": "markdown",
      "metadata": {
        "id": "view-in-github",
        "colab_type": "text"
      },
      "source": [
        "<a href=\"https://colab.research.google.com/github/vdyakushina/Scientific-Python/blob/main/Intermediate_test.ipynb\" target=\"_parent\"><img src=\"https://colab.research.google.com/assets/colab-badge.svg\" alt=\"Open In Colab\"/></a>"
      ]
    },
    {
      "cell_type": "code",
      "metadata": {
        "id": "ATB0NBEVvQW1"
      },
      "source": [
        "import pandas as pd\n",
        "import seaborn as sns\n",
        "import requests\n",
        "!pip install cobra\n",
        "from cobra import test"
      ],
      "execution_count": null,
      "outputs": []
    },
    {
      "cell_type": "markdown",
      "metadata": {
        "id": "m9RZoLkudy7W"
      },
      "source": [
        "## 1."
      ]
    },
    {
      "cell_type": "code",
      "metadata": {
        "id": "fmqEuc_HuCx9"
      },
      "source": [
        "#don\n",
        "# pa\n",
        "#nic"
      ],
      "execution_count": null,
      "outputs": []
    },
    {
      "cell_type": "markdown",
      "metadata": {
        "id": "Oug04lhSt6lN"
      },
      "source": [
        "## 2. "
      ]
    },
    {
      "cell_type": "code",
      "metadata": {
        "id": "BE54FMAwuNOm"
      },
      "source": [
        "data = pd.read_csv('/content/drive/MyDrive/ИТМО/data_for_task2.csv')"
      ],
      "execution_count": 74,
      "outputs": []
    },
    {
      "cell_type": "code",
      "metadata": {
        "colab": {
          "base_uri": "https://localhost:8080/",
          "height": 297
        },
        "id": "-omLfpy3vnJy",
        "outputId": "2ae3884d-1cf9-49f4-b873-cd955c13aa29"
      },
      "source": [
        "means=data.groupby('genus').mean()\n",
        "means[\"genus\"]=list(means.index)\n",
        "means=pd.melt(means, id_vars= \"genus\", value_vars=['sucrose',\t'alanin',\t'citrate',\t'glucose',\t'oleic_acid'])\n",
        "sns.barplot(data=means,x=\"variable\", y=\"value\", hue=\"genus\")"
      ],
      "execution_count": 115,
      "outputs": [
        {
          "output_type": "execute_result",
          "data": {
            "text/plain": [
              "<matplotlib.axes._subplots.AxesSubplot at 0x7fa6832b7190>"
            ]
          },
          "metadata": {
            "tags": []
          },
          "execution_count": 115
        },
        {
          "output_type": "display_data",
          "data": {
            "image/png": "[encoded data removed]",
            "text/plain": [
              "<Figure size 432x288 with 1 Axes>"
            ]
          },
          "metadata": {
            "tags": [],
            "needs_background": "light"
          }
        }
      ]
    },
    {
      "cell_type": "markdown",
      "metadata": {
        "id": "rLYXJ9pHd8H_"
      },
      "source": [
        "## 3.\n",
        "Iterators preferable since it's faster and takes less memory"
      ]
    },
    {
      "cell_type": "code",
      "metadata": {
        "colab": {
          "base_uri": "https://localhost:8080/"
        },
        "id": "5gd0Y_35AYoS",
        "outputId": "c40c9254-c944-43be-98d5-1a54305033b9"
      },
      "source": [
        "my_iter = map(lambda x: x%3 == 0, [1, 2, 3, 4, 5, 6])\n",
        "while True:\n",
        "    try:\n",
        "        print(next(my_iter))\n",
        "    except StopIteration:\n",
        "        break"
      ],
      "execution_count": 69,
      "outputs": [
        {
          "output_type": "stream",
          "text": [
            "False\n",
            "False\n",
            "True\n",
            "False\n",
            "False\n",
            "True\n"
          ],
          "name": "stdout"
        }
      ]
    },
    {
      "cell_type": "markdown",
      "metadata": {
        "id": "lkJ0NfIOeB-n"
      },
      "source": [
        "## 4"
      ]
    },
    {
      "cell_type": "code",
      "metadata": {
        "id": "ANeDlXRLj-DW",
        "colab": {
          "base_uri": "https://localhost:8080/"
        },
        "outputId": "833ae947-42d3-4eac-e6c8-85b90ee07374"
      },
      "source": [
        "numbers=[22,43,264,1990]\n",
        "result=[]\n",
        "for id in numbers:\n",
        "  MATH=requests.get(\"http://numbersapi.com/%s/math?\" % id)\n",
        "  HIST=requests.get(\"http://numbersapi.com/%s/date?\" % id)\n",
        "  result.append({\"NUMBER\": id, \"MATH\": MATH.text, \"HIST\": HIST.text})\n",
        "  print(f'{id} \"MATH:\" {MATH.text}, \"HIST\": {HIST.text}')"
      ],
      "execution_count": 50,
      "outputs": [
        {
          "output_type": "stream",
          "text": [
            "22 \"MATH:\" 22 is a pentagonal number and a centered heptagonal number., \"HIST\": January 22nd is the day in 1947 that KTLA, the first commercial television station west of the Mississippi River, begins operation in Hollywood, California.\n",
            "43 \"MATH:\" 43 is a repdigit in base 6 (111)., \"HIST\": February 12th is the day in 2012 that a primary election is held in Venezuela to choose the contendent against Hugo Chávez, the then current president of Venezuela.\n",
            "264 \"MATH:\" 264 is the largest known number whose square is undulating., \"HIST\": September 20th is the day in 1697 that the Treaty of Rijswijk is signed by France, England, Spain, the Holy Roman Empire and the Dutch Republic ending the Nine Years' War (1688–97).\n",
            "1990 \"MATH:\" 1990 is a stella octangula number., \"HIST\": June 12th is the day in 1978 that David Berkowitz, the \"Son of Sam\" killer in New York City, is sentenced to 365 years in prison for six killings.\n"
          ],
          "name": "stdout"
        }
      ]
    },
    {
      "cell_type": "markdown",
      "metadata": {
        "id": "KqToJZLAkK18"
      },
      "source": [
        "## **5**\n",
        "\n",
        "Answer: NADH prodaction has increased from 38.53 to 40.35 after knock out"
      ]
    },
    {
      "cell_type": "code",
      "metadata": {
        "colab": {
          "base_uri": "https://localhost:8080/"
        },
        "id": "4bKEja6ikLFp",
        "outputId": "0eed8311-4c7d-40cc-811c-6ea653403ab7"
      },
      "source": [
        "model=test.create_test_model(\"textbook\")\n",
        "model.optimize()\n",
        "res=model.metabolites.nadh_c.summary()\n",
        "print(f'before knock out:{sum(res.producing_flux.flux)}')\n",
        "getattr(model.genes, \"b3236\").knock_out()\n",
        "model.optimize()\n",
        "res=model.metabolites.nadh_c.summary()\n",
        "sum(res.producing_flux.flux)\n",
        "print(f'after knock out:{sum(res.producing_flux.flux)}')"
      ],
      "execution_count": 39,
      "outputs": [
        {
          "output_type": "stream",
          "text": [
            "before knock out:38.53460965051545\n",
            "after knock out:40.35544948242236\n"
          ],
          "name": "stdout"
        }
      ]
    }
  ]
}