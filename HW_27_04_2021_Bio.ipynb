{
  "nbformat": 4,
  "nbformat_minor": 0,
  "metadata": {
    "kernelspec": {
      "display_name": "Python 3",
      "language": "python",
      "name": "python3"
    },
    "language_info": {
      "codemirror_mode": {
        "name": "ipython",
        "version": 3
      },
      "file_extension": ".py",
      "mimetype": "text/x-python",
      "name": "python",
      "nbconvert_exporter": "python",
      "pygments_lexer": "ipython3",
      "version": "3.7.6"
    },
    "colab": {
      "name": "H/w 27/04/2021 Bio.ipynb",
      "provenance": [],
      "include_colab_link": true
    }
  },
  "cells": [
    {
      "cell_type": "markdown",
      "metadata": {
        "id": "view-in-github",
        "colab_type": "text"
      },
      "source": [
        "<a href=\"https://colab.research.google.com/github/vdyakushina/Scientific-Python/blob/main/HW_27_04_2021_Bio.ipynb\" target=\"_parent\"><img src=\"https://colab.research.google.com/assets/colab-badge.svg\" alt=\"Open In Colab\"/></a>"
      ]
    },
    {
      "cell_type": "code",
      "metadata": {
        "id": "EegoxhkpO3wt"
      },
      "source": [
        "#!pip install Bio"
      ],
      "execution_count": null,
      "outputs": []
    },
    {
      "cell_type": "code",
      "metadata": {
        "colab": {
          "base_uri": "https://localhost:8080/",
          "height": 327
        },
        "id": "PO_py9rvCkHF",
        "outputId": "df26521b-06ce-413f-e2f1-f5b5eebe084a"
      },
      "source": [
        "# 1\n",
        "'''\n",
        "Let's remeber how to use dictionaries.\n",
        "Task: return a dictionary where \n",
        "    * keys are IDs of seqs from an input fasta file (prot.fasta),\n",
        "    * key's values are seqs itself. \n",
        "'''\n",
        "\n",
        "def my_own_fasta_parser(inFile):\n",
        "  sequences = {}\n",
        "  with open(inFile, \"r\") as inpf:\n",
        "    for line in inpf:\n",
        "      line=line.strip()\n",
        "      if \">\" in line:\n",
        "        seq_id = line[1:]\n",
        "      else:\n",
        "        sequences[seq_id] = line\n",
        "  return sequences\n",
        "\n",
        "my_own_fasta_parser('prot.fasta')"
      ],
      "execution_count": 102,
      "outputs": [
        {
          "output_type": "error",
          "ename": "FileNotFoundError",
          "evalue": "ignored",
          "traceback": [
            "\u001b[0;31m---------------------------------------------------------------------------\u001b[0m",
            "\u001b[0;31mFileNotFoundError\u001b[0m                         Traceback (most recent call last)",
            "\u001b[0;32m<ipython-input-102-be06e70f57fd>\u001b[0m in \u001b[0;36m<module>\u001b[0;34m()\u001b[0m\n\u001b[1;32m     18\u001b[0m   \u001b[0;32mreturn\u001b[0m \u001b[0msequences\u001b[0m\u001b[0;34m\u001b[0m\u001b[0;34m\u001b[0m\u001b[0m\n\u001b[1;32m     19\u001b[0m \u001b[0;34m\u001b[0m\u001b[0m\n\u001b[0;32m---> 20\u001b[0;31m \u001b[0mmy_own_fasta_parser\u001b[0m\u001b[0;34m(\u001b[0m\u001b[0;34m'/content/drive/MyDrive/Colab Notebooks/Sci Pyth/prot.fasta'\u001b[0m\u001b[0;34m)\u001b[0m\u001b[0;34m\u001b[0m\u001b[0;34m\u001b[0m\u001b[0m\n\u001b[0m",
            "\u001b[0;32m<ipython-input-102-be06e70f57fd>\u001b[0m in \u001b[0;36mmy_own_fasta_parser\u001b[0;34m(inFile)\u001b[0m\n\u001b[1;32m      9\u001b[0m \u001b[0;32mdef\u001b[0m \u001b[0mmy_own_fasta_parser\u001b[0m\u001b[0;34m(\u001b[0m\u001b[0minFile\u001b[0m\u001b[0;34m)\u001b[0m\u001b[0;34m:\u001b[0m\u001b[0;34m\u001b[0m\u001b[0;34m\u001b[0m\u001b[0m\n\u001b[1;32m     10\u001b[0m   \u001b[0msequences\u001b[0m \u001b[0;34m=\u001b[0m \u001b[0;34m{\u001b[0m\u001b[0;34m}\u001b[0m\u001b[0;34m\u001b[0m\u001b[0;34m\u001b[0m\u001b[0m\n\u001b[0;32m---> 11\u001b[0;31m   \u001b[0;32mwith\u001b[0m \u001b[0mopen\u001b[0m\u001b[0;34m(\u001b[0m\u001b[0minFile\u001b[0m\u001b[0;34m,\u001b[0m \u001b[0;34m\"r\"\u001b[0m\u001b[0;34m)\u001b[0m \u001b[0;32mas\u001b[0m \u001b[0minpf\u001b[0m\u001b[0;34m:\u001b[0m\u001b[0;34m\u001b[0m\u001b[0;34m\u001b[0m\u001b[0m\n\u001b[0m\u001b[1;32m     12\u001b[0m     \u001b[0;32mfor\u001b[0m \u001b[0mline\u001b[0m \u001b[0;32min\u001b[0m \u001b[0minpf\u001b[0m\u001b[0;34m:\u001b[0m\u001b[0;34m\u001b[0m\u001b[0;34m\u001b[0m\u001b[0m\n\u001b[1;32m     13\u001b[0m       \u001b[0mline\u001b[0m\u001b[0;34m=\u001b[0m\u001b[0mline\u001b[0m\u001b[0;34m.\u001b[0m\u001b[0mstrip\u001b[0m\u001b[0;34m(\u001b[0m\u001b[0;34m)\u001b[0m\u001b[0;34m\u001b[0m\u001b[0;34m\u001b[0m\u001b[0m\n",
            "\u001b[0;31mFileNotFoundError\u001b[0m: [Errno 2] No such file or directory: '/content/drive/MyDrive/Colab Notebooks/Sci Pyth/prot.fasta'"
          ]
        }
      ]
    },
    {
      "cell_type": "code",
      "metadata": {
        "id": "NTpgsIAdCkHH"
      },
      "source": [
        "# 2\n",
        "'''\n",
        "Another super easy task.\n",
        "\n",
        "We have the same fasta file (prot.fasta).\n",
        "Now we want to get a list with the ids of protein seqs that have \n",
        "a relative frequency higher than a given threshold for a given residue.\n",
        "\n",
        "And don't forget to use my_own_fasta_parser function from a previous task!\n",
        "'''\n",
        "\n",
        "def my_own_residue_abundance(input_file, residue, threshold=0.2):\n",
        "  seq_id = []\n",
        "  sequences = my_own_fasta_parser(input_file)\n",
        "  for key_id, sequence in sequences.items():\n",
        "    freq=sequence.count(residue)/len(sequence)\n",
        "    if freq > threshold:\n",
        "      seq_id.append(key_id)\n",
        "  return seq_id\n",
        "\n",
        "result2 = my_own_residue_abundance('/content/drive/MyDrive/Colab Notebooks/Sci Pyth/prot.fasta', \"W\", threshold=0.01)"
      ],
      "execution_count": null,
      "outputs": []
    },
    {
      "cell_type": "code",
      "metadata": {
        "colab": {
          "base_uri": "https://localhost:8080/"
        },
        "id": "4xMa7rcCCkHI",
        "outputId": "fe80bb96-de22-4466-f93d-f905f84ced94"
      },
      "source": [
        "# 3\n",
        "'''\n",
        "Let's practice in Bio package using.\n",
        "Task:\n",
        "1. read fasta file containing several DNA seqs (nucl.fasta)\n",
        "2. subset seqs that have GC content > 45 and coding protein with aromaticity > 0.01\n",
        "3. write a new fasta file with those protein(!) seqs\n",
        "4. return the percentage of seqs that passed your filter\n",
        "Hint: Bio.SeqIO, Bio.SeqRecord, Bio.SeqUtils\n",
        "'''\n",
        "\n",
        "import Bio.SeqIO\n",
        "import Bio.SeqRecord\n",
        "import Bio.SeqUtils\n",
        "from Bio.SeqUtils.ProtParam import ProteinAnalysis\n",
        "from Bio.Seq import Seq\n",
        "\n",
        "def my_own_filtering(input_file, output_file, filt_gc=45, filt_arom=0.125):\n",
        "  sequences = {}\n",
        "  c = 0\n",
        "  with open(input_file, \"r\") as content:\n",
        "    for record in Bio.SeqIO.parse(content, \"fasta\"):\n",
        "      c+=1\n",
        "      gcn=Bio.SeqUtils.GC(record.seq)\n",
        "      aroma=ProteinAnalysis(str(record.seq.translate())).aromaticity()\n",
        "      if gcn >= filt_gc and aroma >= filt_arom:\n",
        "        sequences[record.id] = record.seq\n",
        "  records = []\n",
        "  for seq_id, seq in sequences.items():\n",
        "    records.append(Bio.SeqRecord.SeqRecord(Seq(str(seq.translate())), id=seq_id, description=\"\"))\n",
        "  file = open(output_file,\"w\")\n",
        "  Bio.SeqIO.write(records, file, \"fasta\")\n",
        "  file.close()\n",
        "  print(f'percentage of seqs that passed filter: {(len(records)/c)*100}')\n",
        "\n",
        "my_own_filtering('nucl.fasta', 'nucl_out.fasta', filt_gc=45, filt_arom=0.125)"
      ],
      "execution_count": null,
      "outputs": [
        {
          "output_type": "stream",
          "text": [
            "percentage of seqs that passed filter: 14.285714285714285\n"
          ],
          "name": "stdout"
        },
        {
          "output_type": "stream",
          "text": [
            "/usr/local/lib/python3.7/dist-packages/Bio/Seq.py:2983: BiopythonWarning: Partial codon, len(sequence) not a multiple of three. Explicitly trim the sequence or add trailing N before translation. This may become an error in future.\n",
            "  BiopythonWarning,\n"
          ],
          "name": "stderr"
        }
      ]
    },
    {
      "cell_type": "code",
      "metadata": {
        "id": "Ba3kTeBACkHJ"
      },
      "source": [
        "# 4\n",
        "\"\"\"\n",
        "Continue practicing in Bio package using:\n",
        "Task:\n",
        "complete the following code that should be able to return \n",
        "the best alignment of two amino acid seqs (pairwise2.align.globalds)\n",
        "based on BLOSUM62 matrix from Bio.SubsMat.MatrixInfo.\n",
        "http://rosalind.info/glossary/blosum62/\n",
        "\"\"\"\n",
        "\n",
        "from Bio import pairwise2\n",
        "from Bio.SubsMat import MatrixInfo as matlist\n",
        "\n",
        "def balign(first_seq, second_seq):\n",
        "    matrix = matlist.blosum62\n",
        "    alns = pairwise2.align.globaldx(first_seq, second_seq, matrix)\n",
        "    top_aln = alns[0]\n",
        "    print(f'{top_aln.seqA}, {top_aln.seqB}, {top_aln.score}, {top_aln.start}, {top_aln.end}')\n",
        "\n",
        "balign(\"ACCGT\", \"ACG\")"
      ],
      "execution_count": 37,
      "outputs": []
    },
    {
      "cell_type": "code",
      "metadata": {
        "id": "Nba5slN9CkHJ",
        "colab": {
          "base_uri": "https://localhost:8080/"
        },
        "outputId": "5a2806cf-dfee-4f2c-d03d-8fa6261f29ea"
      },
      "source": [
        "# 5\n",
        "\"\"\" You have some DNA sequence: AGTACTAGAGCATTCTATGGAG.\n",
        "Find out which peptides could be created from it and sort them by their length.\n",
        "Use as much Biopython modules as possible.\n",
        "\"\"\"\n",
        "\n",
        "from Bio.Seq import Seq\n",
        "from Bio.Data import CodonTable\n",
        "\n",
        "my_seq = Seq(\"AGTACTAGAGCATTCTATGGAG\")\n",
        "peptides=[]\n",
        "peptides.append(str(my_seq.translate(to_stop = True)))\n",
        "peptides.append(str(my_seq.reverse_complement().translate(to_stop = True)))\n",
        "for i in CodonTable.generic_by_id[5].start_codons:\n",
        "  if my_seq.transcribe().find(i)!=-1:\n",
        "    start=my_seq.transcribe().find(i)\n",
        "    peptides.append(str(my_seq.transcribe()[start:].translate(to_stop = True)))\n",
        "\n",
        "peptides=sorted(peptides, key=len, reverse=True)\n",
        "for i in peptides:\n",
        "  print(i)"
      ],
      "execution_count": 85,
      "outputs": [
        {
          "output_type": "stream",
          "text": [
            "STRAFYG\n",
            "LHRML\n",
            "ILW\n",
            "ME\n"
          ],
          "name": "stdout"
        },
        {
          "output_type": "stream",
          "text": [
            "/usr/local/lib/python3.7/dist-packages/Bio/Seq.py:2983: BiopythonWarning: Partial codon, len(sequence) not a multiple of three. Explicitly trim the sequence or add trailing N before translation. This may become an error in future.\n",
            "  BiopythonWarning,\n"
          ],
          "name": "stderr"
        }
      ]
    },
    {
      "cell_type": "code",
      "metadata": {
        "id": "-iI0vx-6CkHK",
        "colab": {
          "base_uri": "https://localhost:8080/",
          "height": 35
        },
        "outputId": "3c404ab9-b0ba-4ccd-a55d-9ab27eaf4fe9"
      },
      "source": [
        "# 6\n",
        "\"\"\" TASK: Try to create one-line function (without (!!!) using Bio package) \n",
        "that returns reverse complementary to a given sequence. \n",
        "Hint: using dictionaty & list comprehensions might be helpful.\n",
        "\"\"\"\n",
        "\n",
        "def rev_compl_one_line(seq):\n",
        "    return \"\".join({\"A\":\"T\", \"T\":\"A\", \"C\":\"G\", \"G\":\"C\"}[i] for i in my_seq[::-1])\n",
        "\n",
        "rev_compl_one_line('AGTACTAGAGCATTCTATGGAG')"
      ],
      "execution_count": 101,
      "outputs": [
        {
          "output_type": "execute_result",
          "data": {
            "application/vnd.google.colaboratory.intrinsic+json": {
              "type": "string"
            },
            "text/plain": [
              "'CTCCATAGAATGCTCTAGTACT'"
            ]
          },
          "metadata": {
            "tags": []
          },
          "execution_count": 101
        }
      ]
    }
  ]
}