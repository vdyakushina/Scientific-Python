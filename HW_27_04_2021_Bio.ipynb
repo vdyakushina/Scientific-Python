{
  "nbformat": 4,
  "nbformat_minor": 0,
  "metadata": {
    "kernelspec": {
      "display_name": "Python 3",
      "language": "python",
      "name": "python3"
    },
    "language_info": {
      "codemirror_mode": {
        "name": "ipython",
        "version": 3
      },
      "file_extension": ".py",
      "mimetype": "text/x-python",
      "name": "python",
      "nbconvert_exporter": "python",
      "pygments_lexer": "ipython3",
      "version": "3.7.6"
    },
    "colab": {
      "name": "H/w 27/04/2021 Bio.ipynb",
      "provenance": [],
      "include_colab_link": true
    }
  },
  "cells": [
    {
      "cell_type": "markdown",
      "metadata": {
        "id": "view-in-github",
        "colab_type": "text"
      },
      "source": [
        "<a href=\"https://colab.research.google.com/github/vdyakushina/Scientific-Python/blob/main/HW_27_04_2021_Bio.ipynb\" target=\"_parent\"><img src=\"https://colab.research.google.com/assets/colab-badge.svg\" alt=\"Open In Colab\"/></a>"
      ]
    },
    {
      "cell_type": "code",
      "metadata": {
        "id": "EegoxhkpO3wt"
      },
      "source": [
        "#!pip install Bio"
      ],
      "execution_count": null,
      "outputs": []
    },
    {
      "cell_type": "code",
      "metadata": {
        "colab": {
          "base_uri": "https://localhost:8080/"
        },
        "id": "PO_py9rvCkHF",
        "outputId": "412dd3f6-0e4b-48e4-dc51-ceb43cde7acc"
      },
      "source": [
        "# 1\n",
        "'''\n",
        "Let's remeber how to use dictionaries.\n",
        "Task: return a dictionary where \n",
        "    * keys are IDs of seqs from an input fasta file (prot.fasta),\n",
        "    * key's values are seqs itself. \n",
        "'''\n",
        "\n",
        "def my_own_fasta_parser(inFile):\n",
        "  sequences = {}\n",
        "  with open(inFile, \"r\") as inpf:\n",
        "    for line in inpf:\n",
        "      line=line.strip()\n",
        "      if \">\" in line:\n",
        "        seq_id = line[1:]\n",
        "      else:\n",
        "        sequences[seq_id] = line\n",
        "  return sequences\n",
        "\n",
        "my_own_fasta_parser('prot.fasta')"
      ],
      "execution_count": 105,
      "outputs": [
        {
          "output_type": "execute_result",
          "data": {
            "text/plain": [
              "{'seq0': 'FQTWEEFSRAAEKLYLADPMKVRVVLKYRHVDGNLCIKVTDDLVCLVYRTDQAQDVKKIEKF',\n",
              " 'seq1': 'KYRTWEEFTRAAEKLYQADPMKVRVVLKYRHCDGNLCIKVTDDVVCLLYRTDQAQDVKKIEKFHSQLMRLME LKVTDNKECLKFKTDQAQEAKKMEKLNNIFFTLM',\n",
              " 'seq10': 'FDSWDEFVSKSVELFRNHPDTTRYVVKYRHCEGKLVLKVTDNHECLKFKTDQAQDAKKMEK',\n",
              " 'seq2': 'EEYQTWEEFARAAEKLYLTDPMKVRVVLKYRHCDGNLCMKVTDDAVCLQYKTDQAQDVKKVEKLHGK',\n",
              " 'seq3': 'MYQVWEEFSRAVEKLYLTDPMKVRVVLKYRHCDGNLCIKVTDNSVCLQYKTDQAQDVK',\n",
              " 'seq4': 'EEFSRAVEKLYLTDPMKVRVVLKYRHCDGNLCIKVTDNSVVSYEMRLFGVQKDNFALEHSLL',\n",
              " 'seq5': 'SWEEFAKAAEVLYLEDPMKCRMCTKYRHVDHKLVVKLTDNHTVLKYVTDMAQDVKKIEKLTTLLMR',\n",
              " 'seq6': 'FTNWEEFAKAAERLHSANPEKCRFVTKYNHTKGELVLKLTDDVVCLQYSTNQLQDVKKLEKLSSTLLRSI',\n",
              " 'seq7': 'SWEEFVERSVQLFRGDPNATRYVMKYRHCEGKLVLKVTDDRECLKFKTDQAQDAKKMEKLNNIFF',\n",
              " 'seq8': 'SWDEFVDRSVQLFRADPESTRYVMKYRHCDGKLVLKVTDNKECLKFKTDQAQEAKKMEKLNNIFFTLM',\n",
              " 'seq9': 'KNWEDFEIAAENMYMANPQNCRYTMKYVHSKGHILLKMSDNVKCVQYRAENMPDLKK'}"
            ]
          },
          "metadata": {
            "tags": []
          },
          "execution_count": 105
        }
      ]
    },
    {
      "cell_type": "code",
      "metadata": {
        "id": "NTpgsIAdCkHH",
        "colab": {
          "base_uri": "https://localhost:8080/"
        },
        "outputId": "9fc0e9d4-477b-42f8-e93c-1fc4d1f5db61"
      },
      "source": [
        "# 2\n",
        "'''\n",
        "Another super easy task.\n",
        "\n",
        "We have the same fasta file (prot.fasta).\n",
        "Now we want to get a list with the ids of protein seqs that have \n",
        "a relative frequency higher than a given threshold for a given residue.\n",
        "\n",
        "And don't forget to use my_own_fasta_parser function from a previous task!\n",
        "'''\n",
        "\n",
        "def my_own_residue_abundance(input_file, residue, threshold=0.2):\n",
        "  seq_id = []\n",
        "  sequences = my_own_fasta_parser(input_file)\n",
        "  for key_id, sequence in sequences.items():\n",
        "    freq=sequence.count(residue)/len(sequence)\n",
        "    if freq > threshold:\n",
        "      seq_id.append(key_id)\n",
        "  return seq_id\n",
        "\n",
        "my_own_residue_abundance('prot.fasta', \"W\", threshold=0.01)"
      ],
      "execution_count": 109,
      "outputs": [
        {
          "output_type": "execute_result",
          "data": {
            "text/plain": [
              "['seq0', 'seq2', 'seq3', 'seq5', 'seq6', 'seq7', 'seq8', 'seq9', 'seq10']"
            ]
          },
          "metadata": {
            "tags": []
          },
          "execution_count": 109
        }
      ]
    },
    {
      "cell_type": "code",
      "metadata": {
        "colab": {
          "base_uri": "https://localhost:8080/"
        },
        "id": "4xMa7rcCCkHI",
        "outputId": "2c545cc1-ab49-4e92-9133-cab8b1d99499"
      },
      "source": [
        "# 3\n",
        "'''\n",
        "Let's practice in Bio package using.\n",
        "Task:\n",
        "1. read fasta file containing several DNA seqs (nucl.fasta)\n",
        "2. subset seqs that have GC content > 45 and coding protein with aromaticity > 0.01\n",
        "3. write a new fasta file with those protein(!) seqs\n",
        "4. return the percentage of seqs that passed your filter\n",
        "Hint: Bio.SeqIO, Bio.SeqRecord, Bio.SeqUtils\n",
        "'''\n",
        "\n",
        "import Bio.SeqIO\n",
        "import Bio.SeqRecord\n",
        "import Bio.SeqUtils\n",
        "from Bio.SeqUtils.ProtParam import ProteinAnalysis\n",
        "from Bio.Seq import Seq\n",
        "\n",
        "def my_own_filtering(input_file, output_file, filt_gc=45, filt_arom=0.125):\n",
        "  sequences = {}\n",
        "  c = 0\n",
        "  with open(input_file, \"r\") as content:\n",
        "    for record in Bio.SeqIO.parse(content, \"fasta\"):\n",
        "      c+=1\n",
        "      gcn=Bio.SeqUtils.GC(record.seq)\n",
        "      aroma=ProteinAnalysis(str(record.seq.translate())).aromaticity()\n",
        "      if gcn >= filt_gc and aroma >= filt_arom:\n",
        "        sequences[record.id] = record.seq\n",
        "  records = []\n",
        "  for seq_id, seq in sequences.items():\n",
        "    records.append(Bio.SeqRecord.SeqRecord(Seq(str(seq.translate())), id=seq_id, description=\"\"))\n",
        "  file = open(output_file,\"w\")\n",
        "  Bio.SeqIO.write(records, file, \"fasta\")\n",
        "  file.close()\n",
        "  print(f'percentage of seqs that passed filter: {(len(records)/c)*100}')\n",
        "\n",
        "my_own_filtering('nucl.fasta', 'nucl_out.fasta', filt_gc=45, filt_arom=0.125)"
      ],
      "execution_count": 110,
      "outputs": [
        {
          "output_type": "stream",
          "text": [
            "/usr/local/lib/python3.7/dist-packages/Bio/Seq.py:2983: BiopythonWarning: Partial codon, len(sequence) not a multiple of three. Explicitly trim the sequence or add trailing N before translation. This may become an error in future.\n",
            "  BiopythonWarning,\n"
          ],
          "name": "stderr"
        },
        {
          "output_type": "stream",
          "text": [
            "percentage of seqs that passed filter: 14.285714285714285\n"
          ],
          "name": "stdout"
        }
      ]
    },
    {
      "cell_type": "code",
      "metadata": {
        "id": "Ba3kTeBACkHJ",
        "colab": {
          "base_uri": "https://localhost:8080/"
        },
        "outputId": "ea48f9df-8f65-4fd3-ce6d-fd3efa747fa4"
      },
      "source": [
        "# 4\n",
        "\"\"\"\n",
        "Continue practicing in Bio package using:\n",
        "Task:\n",
        "complete the following code that should be able to return \n",
        "the best alignment of two amino acid seqs (pairwise2.align.globalds)\n",
        "based on BLOSUM62 matrix from Bio.SubsMat.MatrixInfo.\n",
        "http://rosalind.info/glossary/blosum62/\n",
        "\"\"\"\n",
        "\n",
        "from Bio import pairwise2\n",
        "from Bio.SubsMat import MatrixInfo as matlist\n",
        "\n",
        "def balign(first_seq, second_seq):\n",
        "    matrix = matlist.blosum62\n",
        "    alns = pairwise2.align.globaldx(first_seq, second_seq, matrix)\n",
        "    top_aln = alns[0]\n",
        "    print(f'{top_aln.seqA}, {top_aln.seqB}, {top_aln.score}, {top_aln.start}, {top_aln.end}')\n",
        "\n",
        "balign(\"ACCGT\", \"ACG\")"
      ],
      "execution_count": 111,
      "outputs": [
        {
          "output_type": "stream",
          "text": [
            "ACCGT, A-CG-, 19.0, 0, 5\n"
          ],
          "name": "stdout"
        }
      ]
    },
    {
      "cell_type": "code",
      "metadata": {
        "id": "Nba5slN9CkHJ",
        "colab": {
          "base_uri": "https://localhost:8080/"
        },
        "outputId": "5a2806cf-dfee-4f2c-d03d-8fa6261f29ea"
      },
      "source": [
        "# 5\n",
        "\"\"\" You have some DNA sequence: AGTACTAGAGCATTCTATGGAG.\n",
        "Find out which peptides could be created from it and sort them by their length.\n",
        "Use as much Biopython modules as possible.\n",
        "\"\"\"\n",
        "\n",
        "from Bio.Seq import Seq\n",
        "from Bio.Data import CodonTable\n",
        "\n",
        "my_seq = Seq(\"AGTACTAGAGCATTCTATGGAG\")\n",
        "peptides=[]\n",
        "peptides.append(str(my_seq.translate(to_stop = True)))\n",
        "peptides.append(str(my_seq.reverse_complement().translate(to_stop = True)))\n",
        "for i in CodonTable.generic_by_id[5].start_codons:\n",
        "  if my_seq.transcribe().find(i)!=-1:\n",
        "    start=my_seq.transcribe().find(i)\n",
        "    peptides.append(str(my_seq.transcribe()[start:].translate(to_stop = True)))\n",
        "\n",
        "peptides=sorted(peptides, key=len, reverse=True)\n",
        "for i in peptides:\n",
        "  print(i)"
      ],
      "execution_count": 85,
      "outputs": [
        {
          "output_type": "stream",
          "text": [
            "STRAFYG\n",
            "LHRML\n",
            "ILW\n",
            "ME\n"
          ],
          "name": "stdout"
        },
        {
          "output_type": "stream",
          "text": [
            "/usr/local/lib/python3.7/dist-packages/Bio/Seq.py:2983: BiopythonWarning: Partial codon, len(sequence) not a multiple of three. Explicitly trim the sequence or add trailing N before translation. This may become an error in future.\n",
            "  BiopythonWarning,\n"
          ],
          "name": "stderr"
        }
      ]
    },
    {
      "cell_type": "code",
      "metadata": {
        "id": "-iI0vx-6CkHK",
        "colab": {
          "base_uri": "https://localhost:8080/",
          "height": 35
        },
        "outputId": "3c404ab9-b0ba-4ccd-a55d-9ab27eaf4fe9"
      },
      "source": [
        "# 6\n",
        "\"\"\" TASK: Try to create one-line function (without (!!!) using Bio package) \n",
        "that returns reverse complementary to a given sequence. \n",
        "Hint: using dictionaty & list comprehensions might be helpful.\n",
        "\"\"\"\n",
        "\n",
        "def rev_compl_one_line(seq):\n",
        "    return \"\".join({\"A\":\"T\", \"T\":\"A\", \"C\":\"G\", \"G\":\"C\"}[i] for i in my_seq[::-1])\n",
        "\n",
        "rev_compl_one_line('AGTACTAGAGCATTCTATGGAG')"
      ],
      "execution_count": 101,
      "outputs": [
        {
          "output_type": "execute_result",
          "data": {
            "application/vnd.google.colaboratory.intrinsic+json": {
              "type": "string"
            },
            "text/plain": [
              "'CTCCATAGAATGCTCTAGTACT'"
            ]
          },
          "metadata": {
            "tags": []
          },
          "execution_count": 101
        }
      ]
    }
  ]
}