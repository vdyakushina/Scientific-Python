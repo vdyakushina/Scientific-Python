{
  "nbformat": 4,
  "nbformat_minor": 0,
  "metadata": {
    "colab": {
      "name": "HW3.ipynb",
      "provenance": [],
      "authorship_tag": "ABX9TyPMTiIhWbrjX9+sPOCywZ5G",
      "include_colab_link": true
    },
    "kernelspec": {
      "name": "python3",
      "display_name": "Python 3"
    },
    "language_info": {
      "name": "python"
    }
  },
  "cells": [
    {
      "cell_type": "markdown",
      "metadata": {
        "id": "view-in-github",
        "colab_type": "text"
      },
      "source": [
        "<a href=\"https://colab.research.google.com/github/vdyakushina/Scientific-Python/blob/main/HW3.ipynb\" target=\"_parent\"><img src=\"https://colab.research.google.com/assets/colab-badge.svg\" alt=\"Open In Colab\"/></a>"
      ]
    },
    {
      "cell_type": "markdown",
      "metadata": {
        "id": "m9RZoLkudy7W"
      },
      "source": [
        "## Define functions"
      ]
    },
    {
      "cell_type": "code",
      "metadata": {
        "id": "nGo4E2aWLI1B"
      },
      "source": [
        "def dfs(graph, node, visited):\n",
        "  if node not in visited:\n",
        "    visited.add(node)\n",
        "    if node in graph:\n",
        "      for next in graph[node]:\n",
        "          dfs(graph, next, visited)\n",
        "\n",
        "def classc(inpt):\n",
        "  inpt2={}\n",
        "  for i in inpt:\n",
        "    for j in i[\"parents\"]:\n",
        "      if j in inpt2:\n",
        "        inpt2[j].append(i[\"name\"])\n",
        "      else:\n",
        "        inpt2[j]=list(i[\"name\"])\n",
        "  names=sorted([k[\"name\"] for k in inpt])\n",
        "  for k in names:\n",
        "    visited= set()\n",
        "    dfs(inpt2, k, visited)\n",
        "    print(f'{k}:{len(visited)}')"
      ],
      "execution_count": null,
      "outputs": []
    },
    {
      "cell_type": "markdown",
      "metadata": {
        "id": "rLYXJ9pHd8H_"
      },
      "source": [
        "## Read data"
      ]
    },
    {
      "cell_type": "code",
      "metadata": {
        "id": "oTb9rzeadpYJ"
      },
      "source": [
        "example=[{\"name\": \"B\", \"parents\": [\"A\", \"C\"]}, {\"name\": \"C\", \"parents\": [\"A\"]}, {\"name\": \"A\", \"parents\": []}, {\"name\": \"D\", \"parents\":[\"C\", \"F\"]}, {\"name\": \"E\", \"parents\":[\"D\"]}, {\"name\": \"F\", \"parents\":[]}]"
      ],
      "execution_count": null,
      "outputs": []
    },
    {
      "cell_type": "markdown",
      "metadata": {
        "id": "lkJ0NfIOeB-n"
      },
      "source": [
        "## implementation"
      ]
    },
    {
      "cell_type": "code",
      "metadata": {
        "id": "ANeDlXRLj-DW",
        "colab": {
          "base_uri": "https://localhost:8080/"
        },
        "outputId": "7a8cb26a-0cf1-434b-b397-c0a2fd077751"
      },
      "source": [
        "classc(example)"
      ],
      "execution_count": null,
      "outputs": [
        {
          "output_type": "stream",
          "text": [
            "A:5\n",
            "B:1\n",
            "C:4\n",
            "D:2\n",
            "E:1\n",
            "F:3\n"
          ],
          "name": "stdout"
        }
      ]
    }
  ]
}